{
 "cells": [
  {
   "cell_type": "code",
   "execution_count": 2,
   "metadata": {},
   "outputs": [],
   "source": [
    "class FeatureBorder:\n",
    "    \n",
    "    def __init__(self, data):\n",
    "        self.__data = data\n",
    "        \n",
    "    def choice_features(self, low, hight, num = True, cat_feature_var = 300):    \n",
    "        features = self.generate_features_name(low, hight)\n",
    "        result_features = []\n",
    "        for var in features:\n",
    "            size_feature = self.__data[var].unique().shape[0]\n",
    "            if num:\n",
    "                if self.detect_constant(size_feature):\n",
    "                    result_features.append(var)\n",
    "            else:\n",
    "                if self.detect_constant(size_feature) and self.variation_feature(size_feature, cat_feature_var):\n",
    "                    result_features.append(var)\n",
    "        return result_features\n",
    "    \n",
    "    def choice_features_with_nan(self, current_features, treshold):\n",
    "        features = []\n",
    "        for var in current_features: \n",
    "            nan_flag = self.__data[var].isnull().any()\n",
    "            if nan_flag:\n",
    "                if self.__proportion_count(var, treshold):\n",
    "                    features.append(var)\n",
    "            else:\n",
    "                features.append(var)\n",
    "        return features\n",
    "    \n",
    "    def __proportion_count(self, var, treshold):\n",
    "        return sum(self.__data[var].isnull()) / self.__data[var].shape[0] < treshold\n",
    "    \n",
    "    @staticmethod\n",
    "    def generate_features_name(low, hight):\n",
    "        return [''.join(('Var', str(i))) for i in range(low, hight)]\n",
    "    \n",
    "    @staticmethod\n",
    "    def detect_constant(size_feature):\n",
    "        return size_feature >= 2\n",
    "    \n",
    "    @staticmethod\n",
    "    def variation_feature(size_feature, cat_feature_var):\n",
    "        return size_feature < cat_feature_var  "
   ]
  }
 ],
 "metadata": {
  "kernelspec": {
   "display_name": "Python 3",
   "language": "python",
   "name": "python3"
  },
  "language_info": {
   "codemirror_mode": {
    "name": "ipython",
    "version": 3
   },
   "file_extension": ".py",
   "mimetype": "text/x-python",
   "name": "python",
   "nbconvert_exporter": "python",
   "pygments_lexer": "ipython3",
   "version": "3.7.6"
  }
 },
 "nbformat": 4,
 "nbformat_minor": 4
}
