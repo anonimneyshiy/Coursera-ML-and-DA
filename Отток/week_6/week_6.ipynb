{
 "cells": [
  {
   "cell_type": "code",
   "execution_count": 1,
   "metadata": {},
   "outputs": [],
   "source": [
    "import pandas as pd\n",
    "import numpy as np\n",
    "from matplotlib import pyplot as plt\n",
    "\n",
    "import catboost \n",
    "from sklearn import metrics\n",
    "from sklearn import model_selection"
   ]
  },
  {
   "cell_type": "markdown",
   "metadata": {},
   "source": [
    "## Цель работы"
   ]
  },
  {
   "cell_type": "markdown",
   "metadata": {},
   "source": [
    "В данной работе проведем оценку потенциального экономического эффекта от внедрения полученного решения. Для этого построим простую экономическую модель для оценки эффекта от внедрения нашей модели."
   ]
  },
  {
   "cell_type": "markdown",
   "metadata": {},
   "source": [
    "#### Импортируем данные"
   ]
  },
  {
   "cell_type": "code",
   "execution_count": 2,
   "metadata": {},
   "outputs": [
    {
     "name": "stdout",
     "output_type": "stream",
     "text": [
      "(18298, 232)\n",
      "доля объектов класса отток: 0.0753\n",
      "доля объектов класса не отток: 0.9247\n"
     ]
    }
   ],
   "source": [
    "data = pd.read_csv('orange_small_churn_train_data.csv')\n",
    "\n",
    "\n",
    "labels = data['labels']\n",
    "data.drop(labels.index[-1], axis = 0, inplace = True)\n",
    "labels = data['labels']\n",
    "labels = np.array(list(map(lambda x: int(x) if x is not np.nan else x, labels)))\n",
    "\n",
    "\n",
    "print(data.shape)\n",
    "print('доля объектов класса отток: %.4f' % (data[data.labels == 1].labels.shape[0] / data.shape[0]))\n",
    "print('доля объектов класса не отток: %.4f' % (data[data.labels != 1].labels.shape[0] / data.shape[0]))"
   ]
  },
  {
   "cell_type": "markdown",
   "metadata": {},
   "source": [
    "#### Разделим данные на обучение и тест"
   ]
  },
  {
   "cell_type": "code",
   "execution_count": 3,
   "metadata": {},
   "outputs": [
    {
     "name": "stdout",
     "output_type": "stream",
     "text": [
      "data_train size: (14638, 232)\n",
      "labels_train size: (14638,)\n",
      "\n",
      "data_test size: (3660, 232)\n",
      "labels_test size: (3660,)\n"
     ]
    }
   ],
   "source": [
    "(data_train, data_test, \n",
    " y_train, y_test) = model_selection.train_test_split(data, labels, \n",
    "                                                    test_size = 0.20, \n",
    "                                                    stratify = labels,\n",
    "                                                    random_state = 1)\n",
    "\n",
    "\n",
    "print('data_train size: {}'.format(data_train.shape))\n",
    "print('labels_train size: {}'.format(y_train.shape))\n",
    "print('')\n",
    "print('data_test size: {}'.format(data_test.shape))\n",
    "print('labels_test size: {}'.format(y_test.shape))"
   ]
  },
  {
   "cell_type": "markdown",
   "metadata": {},
   "source": [
    "---"
   ]
  },
  {
   "cell_type": "markdown",
   "metadata": {},
   "source": [
    "По итогам прошлых недель была построена **финальная модель** для классификации объектов. Модель состоит из следующих этапов:\n",
    "\n",
    "**Преобразования данных:**\n",
    " - **Удаление** константных признаков и категориальных признаков, вариация значений которых больше 300.\n",
    " - **Заполнение** пропусков:\n",
    "    - средними значениями у вещественных признаков\n",
    "    - константными значениями у категориальных признаков\n",
    " - **Отбор** признаков на основе **корреляции** с целевой функцией:\n",
    "    -  для вещественных признаков корреляция рассчитывается как разность математический ожиданий признака при условии класса \"отток\" и признака при условии класса \"не отток\".\n",
    "    - для категориальных признаков корреляция рассчитывается с помощью коэффициента V крамера.\n",
    "    \n",
    "**Построение модели:**\n",
    " - В качестве модели используется модель градиентного бустинга (**catboost**).\n",
    " - Отдельно задаем, в качестве параметра модели, балансировку весов, на основе доли каждого класса в выборке. \n",
    " - На вход модели подаются 10 вещественных и 25 категориальных признаков, которые имеют наибольшее значение корреляции с целевой функцией."
   ]
  },
  {
   "cell_type": "markdown",
   "metadata": {},
   "source": [
    "Все этапы построения модели перенесены в .py модули для уменьшения кода в текушем ноутбуке.\n",
    "\n",
    "Модуль **Preprocessing** включает в себя разделение преобразование данных.\n",
    "<br>\n",
    "Модуль **FeaturesSelection** включает в себя отбор признаков на основе корреляции.\n",
    "<br>\n",
    "Модуль **Validation** нужен для оценки качества модели на кросс-валидации.\n",
    "<br>\n",
    "Модуль **Model** содержит в себе модель классификации.\n",
    "\n",
    "Импортируем соответсвующие модули и классы, необходимые для построения модели."
   ]
  },
  {
   "cell_type": "code",
   "execution_count": 4,
   "metadata": {},
   "outputs": [],
   "source": [
    "from Preprocessing import FeaturesBorder, PreprocessingForCatboost\n",
    "from FeaturesSelection import Correlation\n",
    "from Validation import CrossValidation\n",
    "from Model import Classifier"
   ]
  },
  {
   "cell_type": "markdown",
   "metadata": {},
   "source": [
    "Функция для построения модели или оценки ее качества на кросс-валидации:"
   ]
  },
  {
   "cell_type": "code",
   "execution_count": 5,
   "metadata": {},
   "outputs": [],
   "source": [
    "def building_model(data, data_train, y_train, data_test, y_test, cross_val = False):\n",
    "    \n",
    "    # separation features\n",
    "    feature_border = FeaturesBorder(data)\n",
    "    num_features = feature_border.choice_features(1, 191)\n",
    "    cat_features = feature_border.choice_features(191, 231, num = False)\n",
    "\n",
    "    # correlation\n",
    "    data_num_correlation = Correlation(data).numeric_correlation(num_features)\n",
    "    num_features_corr = list(data_num_correlation.abs().sort_values(by = 'correlation', \n",
    "                                                           ascending = False).index.to_numpy())\n",
    "\n",
    "    data_cat_correlation = Correlation(data).categorical_correlation(cat_features)\n",
    "    cat_features_corr = list(data_cat_correlation.sort_values(by = 'correlation', \n",
    "                                                           ascending = False).index.to_numpy())\n",
    "\n",
    "    # preprocessing data\n",
    "    preprocessing_catboost = PreprocessingForCatboost(num_features_corr[:10], cat_features_corr[:25])\n",
    "    data_train_for_catboost = preprocessing_catboost.fit_transform(data_train)\n",
    "    data_test_for_catboost = preprocessing_catboost.transform(data_test)\n",
    "    \n",
    "    # model\n",
    "    classifier = Classifier(cat_features_corr[:25], data_test_for_catboost, y_test)\n",
    "\n",
    "    # cross-validation\n",
    "    if cross_val is not False:\n",
    "        roc_auc_score_catboost = CrossValidation().cross_validation_for_catboost(classifier,\n",
    "                                                       PreprocessingForCatboost(num_features_corr[:10], cat_features_corr[:25]),\n",
    "                                                       data_train, y_train,\n",
    "                                                       metrics = metrics.roc_auc_score)\n",
    "        return roc_auc_score_catboost\n",
    "    \n",
    "    # model train\n",
    "    classifier.fit(data_train_for_catboost, y_train)\n",
    "    return data_train_for_catboost, data_test_for_catboost, classifier"
   ]
  },
  {
   "cell_type": "markdown",
   "metadata": {},
   "source": [
    "Обучим модель:"
   ]
  },
  {
   "cell_type": "code",
   "execution_count": 6,
   "metadata": {},
   "outputs": [],
   "source": [
    "data_train_catboost, data_test_catboost, model = building_model(data, data_train, y_train, data_test, y_test)"
   ]
  },
  {
   "cell_type": "markdown",
   "metadata": {},
   "source": [
    "Определим порог для отнесения объектов к классу \"отток\". Для этого построим кривые точности и полноты в зависимости от порога.\n",
    "\n",
    "Будем подбирать порог так, чтобы максимизировать полноту, но при этом не сильно снизить точность. Так как при уменьшении точности получим экономически невыгодную модель из-за большого количества трат на удержание пользователей, которые не собираются покидать организацию."
   ]
  },
  {
   "cell_type": "code",
   "execution_count": 7,
   "metadata": {},
   "outputs": [
    {
     "data": {
      "image/png": "[encoded data removed]",
      "text/plain": [
       "<Figure size 720x432 with 1 Axes>"
      ]
     },
     "metadata": {
      "needs_background": "light"
     },
     "output_type": "display_data"
    }
   ],
   "source": [
    "precision, recall, thresholds = metrics.precision_recall_curve(y_train, model.predict_proba(data_train_catboost)[:, 1])\n",
    "\n",
    "plt.figure(figsize = (10, 6))\n",
    "plt.plot(thresholds, precision[:-1], \n",
    "         color = 'green', label = 'precision')\n",
    "plt.plot(thresholds, recall[:-1], color = 'blue', label = 'recall')\n",
    "plt.xlabel('threshold', fontsize = 15)\n",
    "plt.legend(prop = {'size': 15})\n",
    "plt.show()"
   ]
  },
  {
   "cell_type": "code",
   "execution_count": 139,
   "metadata": {},
   "outputs": [],
   "source": [
    "optimal_threshold = None\n",
    "flag = 10\n",
    "current_precision = 0.2\n",
    "while flag > 0:\n",
    "    flag = 0\n",
    "    for i, value in enumerate(recall):\n",
    "        if value < 0.3:\n",
    "            break\n",
    "        if precision[i] > current_precision:\n",
    "            optimal_threshold = thresholds[i]\n",
    "            flag += 1\n",
    "    current_precision += 0.01"
   ]
  },
  {
   "cell_type": "code",
   "execution_count": 140,
   "metadata": {},
   "outputs": [
    {
     "name": "stdout",
     "output_type": "stream",
     "text": [
      "оптимальное значение threshold на данном этапе: 0.020175392232858743\n"
     ]
    }
   ],
   "source": [
    "print('оптимальное значение threshold на данном этапе: {}'.format(optimal_threshold))"
   ]
  },
  {
   "cell_type": "markdown",
   "metadata": {},
   "source": [
    "##  Экономическая модель"
   ]
  },
  {
   "cell_type": "markdown",
   "metadata": {},
   "source": [
    "Введем следующие параметры:\n",
    "- денег в среднем приносит один пользователь: **5 условных единиц**. \n",
    "- денег в среднем будет вложено в удержание одного пользователя: **2 условные единицы**.\n",
    "- вероятность принятия пользователем предложения по удержанию: **0.75**\n",
    "- количесво пользователей, которые будут участвовать в кампании по удержанию: **изменяется**"
   ]
  },
  {
   "cell_type": "markdown",
   "metadata": {},
   "source": [
    "Далее будем считать, что без примения модели все пользователи класса \"отток\" покинут организацию. \n",
    "\n",
    "С применением модели пользователи будут вести себя следующим образом:\n",
    "- Верно отнесенные к классу \"отток\" останутся в компании с вероятностью 0.75\n",
    "- Пользователи, на которых модель совершила ошибку false negative, т е совершила ложный пропуск пользователей с истинным классом \"отток\", покидают организацию.\n",
    "- Пользователи, истинно отнесенные к классу \"не отток\", а также пользователи, ложно отнесенные к классу \"отток\" при их истинном классе \"не отток\" остаются в организации."
   ]
  },
  {
   "cell_type": "code",
   "execution_count": 154,
   "metadata": {},
   "outputs": [],
   "source": [
    "# доход без использования модели\n",
    "income_without_model = sum(y_train != 1) * 5 \n",
    "\n",
    "\n",
    "# доход с использованием модели\n",
    "def income_with_model(low, hight, income_one_user = 5, retention_costs = 2, probability_contract = 0.7):\n",
    "    income = []\n",
    "    for current_thresholds in thresholds[low:hight]:\n",
    "        predict = []\n",
    "        for probability in model.predict_proba(data_train_catboost)[:, 1]:\n",
    "            if probability >= current_thresholds:\n",
    "                predict.append(1)\n",
    "            else:\n",
    "                predict.append(-1)\n",
    "        \n",
    "        true_positive = 0\n",
    "        false_positive = 0 \n",
    "        false_negative = 0\n",
    "        true_negative = 0\n",
    "        \n",
    "        for i, value in enumerate(np.array(predict)):\n",
    "            if value == 1 and y_train[i] == 1:\n",
    "                true_positive += 1\n",
    "            if value == 1 and y_train[i] == -1:\n",
    "                false_positive += 1\n",
    "            if value == -1 and y_train[i] == 1:\n",
    "                false_negative += 1\n",
    "            if value == -1 and y_train[i] == -1:\n",
    "                true_negative += 1\n",
    "        \n",
    "        data_churn = pd.DataFrame(columns = ['Отток', 'Не отток'], \n",
    "                                  index = ['a(x) = 1', 'a(x) = -1'],\n",
    "                                  data = [[true_positive, false_positive], \n",
    "                                          [false_negative, true_negative]])\n",
    "        \n",
    "        income.append((data_churn.iloc[1, 1] + data_churn.iloc[0, 1]) * income_one_user \\\n",
    "             + data_churn.iloc[0, 0] * probability_contract * income_one_user \\\n",
    "             - data_churn.iloc[0, 0] * retention_costs \\\n",
    "             - data_churn.iloc[0, 1] * retention_costs)\n",
    "        \n",
    "    return income"
   ]
  },
  {
   "cell_type": "code",
   "execution_count": 90,
   "metadata": {},
   "outputs": [
    {
     "name": "stdout",
     "output_type": "stream",
     "text": [
      "Доход без использования модели:  67680 условных единиц\n",
      "Доход с использованием модели и предварительно выбранным thresholds:  66582.5 условных единиц\n"
     ]
    }
   ],
   "source": [
    "print('Доход без использования модели:  {} условных единиц'.format(income_without_model))\n",
    "print('Доход с использованием модели и предварительно выбранным thresholds:  {} условных единиц'.format(\n",
    "                                                                                        income_with_model(13242, 13243)[0]))"
   ]
  },
  {
   "cell_type": "code",
   "execution_count": 96,
   "metadata": {},
   "outputs": [
    {
     "data": {
      "text/plain": [
       "1.6483310179101114"
      ]
     },
     "execution_count": 96,
     "metadata": {},
     "output_type": "execute_result"
    }
   ],
   "source": [
    "(67680 - 66582.5) / 66582.5 * 100"
   ]
  },
  {
   "cell_type": "code",
   "execution_count": 125,
   "metadata": {},
   "outputs": [
    {
     "data": {
      "text/plain": [
       "1097.5"
      ]
     },
     "execution_count": 125,
     "metadata": {},
     "output_type": "execute_result"
    }
   ],
   "source": [
    "(67680 - 66582.5)"
   ]
  },
  {
   "cell_type": "markdown",
   "metadata": {},
   "source": [
    "Доход без использования модели оказался больше, чем доход с использованием модели на 1.65 %. Если внедрить такую модель, то в итоге будут убытки в размере 1097.5 условных единиц.\n",
    "<br>\n",
    "Для модели был заранее подобран порог разделения для отнесения объектов к классу \"отток\". Данный порог был подобран исходя из построенных кривых точности и полноты и небольших прикидок для прибольности экономического эффекта. \n"
   ]
  },
  {
   "cell_type": "markdown",
   "metadata": {},
   "source": [
    "Попробуем перебирать пороги и смотреть на полученный доход. Для наглядности построим графики."
   ]
  },
  {
   "cell_type": "code",
   "execution_count": null,
   "metadata": {},
   "outputs": [],
   "source": [
    "income = income_with_model(9000, thresholds.shape)"
   ]
  },
  {
   "cell_type": "code",
   "execution_count": 132,
   "metadata": {},
   "outputs": [
    {
     "data": {
      "image/png": "[encoded data removed]",
      "text/plain": [
       "<Figure size 1296x720 with 1 Axes>"
      ]
     },
     "metadata": {
      "needs_background": "light"
     },
     "output_type": "display_data"
    }
   ],
   "source": [
    "plt.figure(figsize = (18, 10))\n",
    "\n",
    "plt.plot(thresholds[9000:], [income_without_model for i in thresholds[9000:]], \n",
    "                                        color = 'red', label = 'income witout model')\n",
    "plt.plot(thresholds[9000:], income, color = 'blue', label = 'income with model')\n",
    "\n",
    "thresholds_max_income = thresholds[9000 + income.index(max(income))]\n",
    "y_for_max_income = [i for i in range(int(min(income)), int(max(income)), 1000)]\n",
    "\n",
    "plt.plot([thresholds_max_income for i in y_for_max_income], y_for_max_income, color = 'green', label = 'max income')\n",
    "\n",
    "plt.xlim(0, thresholds[-1])\n",
    "plt.ylim(min(income), max(income) + 300)\n",
    "plt.xlabel('thresholds', size = 15)\n",
    "plt.title('Income', size = 15)\n",
    "plt.legend(prop = {'size': 15})\n",
    "plt.show()"
   ]
  },
  {
   "cell_type": "markdown",
   "metadata": {},
   "source": [
    "Удалось подобрать порог разделения для прибыльной кампании по удержанию. Теперь имеем:"
   ]
  },
  {
   "cell_type": "code",
   "execution_count": 128,
   "metadata": {},
   "outputs": [
    {
     "name": "stdout",
     "output_type": "stream",
     "text": [
      "Доход без использования модели:  67680 условных единиц\n",
      "Доход с использованием модели:  67746.0 условных единиц\n"
     ]
    }
   ],
   "source": [
    "print('Доход без использования модели:  {} условных единиц'.format(income_without_model))\n",
    "print('Доход с использованием модели:  {} условных единиц'.format(max(income)))"
   ]
  },
  {
   "cell_type": "markdown",
   "metadata": {},
   "source": [
    "Имеем прибыль от данной кампании по удержанию в размере 66 условных единиц. Данную прибыль нельзя назвать существенной."
   ]
  },
  {
   "cell_type": "markdown",
   "metadata": {},
   "source": [
    "Теперь посмотрим на результаты классификации с выбранным порогом, при котором есть прибыль: "
   ]
  },
  {
   "cell_type": "code",
   "execution_count": 137,
   "metadata": {},
   "outputs": [],
   "source": [
    "def confusion_matrix(thresholds):\n",
    "    predict = []\n",
    "    for probability in model.predict_proba(data_train_catboost)[:, 1]:\n",
    "        if probability >= thresholds:\n",
    "            predict.append(1)\n",
    "        else:\n",
    "            predict.append(-1)\n",
    "    \n",
    "    true_positive = 0\n",
    "    false_positive = 0 \n",
    "    false_negative = 0\n",
    "    true_negative = 0\n",
    "    \n",
    "    for i, value in enumerate(np.array(predict)):\n",
    "        if value == 1 and y_train[i] == 1:\n",
    "            true_positive += 1\n",
    "        if value == 1 and y_train[i] == -1:\n",
    "            false_positive += 1\n",
    "        if value == -1 and y_train[i] == 1:\n",
    "            false_negative += 1\n",
    "        if value == -1 and y_train[i] == -1:\n",
    "            true_negative += 1\n",
    "    \n",
    "    data_churn = pd.DataFrame(columns = ['Отток', 'Не отток'], \n",
    "                              index = ['a(x) = 1', 'a(x) = -1'],\n",
    "                              data = [[true_positive, false_positive], \n",
    "                                      [false_negative, true_negative]])\n",
    "    return data_churn"
   ]
  },
  {
   "cell_type": "code",
   "execution_count": 143,
   "metadata": {},
   "outputs": [
    {
     "data": {
      "text/html": [
       "<div>\n",
       "<style scoped>\n",
       "    .dataframe tbody tr th:only-of-type {\n",
       "        vertical-align: middle;\n",
       "    }\n",
       "\n",
       "    .dataframe tbody tr th {\n",
       "        vertical-align: top;\n",
       "    }\n",
       "\n",
       "    .dataframe thead th {\n",
       "        text-align: right;\n",
       "    }\n",
       "</style>\n",
       "<table border=\"1\" class=\"dataframe\">\n",
       "  <thead>\n",
       "    <tr style=\"text-align: right;\">\n",
       "      <th></th>\n",
       "      <th>Отток</th>\n",
       "      <th>Не отток</th>\n",
       "    </tr>\n",
       "  </thead>\n",
       "  <tbody>\n",
       "    <tr>\n",
       "      <th>a(x) = 1</th>\n",
       "      <td>60</td>\n",
       "      <td>12</td>\n",
       "    </tr>\n",
       "    <tr>\n",
       "      <th>a(x) = -1</th>\n",
       "      <td>1042</td>\n",
       "      <td>13524</td>\n",
       "    </tr>\n",
       "  </tbody>\n",
       "</table>\n",
       "</div>"
      ],
      "text/plain": [
       "           Отток  Не отток\n",
       "a(x) = 1      60        12\n",
       "a(x) = -1   1042     13524"
      ]
     },
     "execution_count": 143,
     "metadata": {},
     "output_type": "execute_result"
    }
   ],
   "source": [
    "s = confusion_matrix(thresholds_max_income)\n",
    "s"
   ]
  },
  {
   "cell_type": "markdown",
   "metadata": {},
   "source": [
    "Наша модель совершает огромное количесво ложных пропусков. Она верно определяет только 5.75 % объектов класса \"отток\".\n",
    "<br>\n",
    "Но именно такая модель с таким порогом разделения на классы дает хоть какую-то прибыль от проведения кампании по удержанию."
   ]
  },
  {
   "cell_type": "markdown",
   "metadata": {},
   "source": [
    "#### Изменение исходных параметров экономической модели"
   ]
  },
  {
   "cell_type": "code",
   "execution_count": 162,
   "metadata": {},
   "outputs": [
    {
     "name": "stdout",
     "output_type": "stream",
     "text": [
      "Текущий доход с использованием модели:  67746.0 условных единиц\n"
     ]
    }
   ],
   "source": [
    "print('Текущий доход с использованием модели:  {} условных единиц'.format(max(income)))"
   ]
  },
  {
   "cell_type": "code",
   "execution_count": 167,
   "metadata": {},
   "outputs": [
    {
     "name": "stdout",
     "output_type": "stream",
     "text": [
      "Увеличение вероятности согласия на предложение об удержании дает прибыль:  67806.0 условных единиц\n",
      "Увеличение затрат на кампанию по удержанию дает прибыль:  67674.0 условных единиц\n"
     ]
    }
   ],
   "source": [
    "print('Увеличение вероятности согласия на предложение об удержании дает прибыль:  {} условных единиц'\\\n",
    "                                                                             .format(income_with_model(14298, 14299, \n",
    "                                                                                     income_one_user = 5,\n",
    "                                                                                     retention_costs = 2, \n",
    "                                                                                     probability_contract = 0.9\n",
    ")[0]))\n",
    "\n",
    "\n",
    "print('Увеличение затрат на кампанию по удержанию дает прибыль:  {} условных единиц'\\\n",
    "                                                                             .format(income_with_model(14298, 14299, \n",
    "                                                                                     income_one_user = 5,\n",
    "                                                                                     retention_costs = 3, \n",
    "                                                                                     probability_contract = 0.7\n",
    ")[0]))"
   ]
  },
  {
   "cell_type": "markdown",
   "metadata": {},
   "source": [
    "При увеличении вероятности согласия пользователя на предложение по удержанию имеет увеличение дохода.\n",
    "<br>\n",
    "При увеличении затрат на кампанию по удержанию имеем уменьшение дохода."
   ]
  },
  {
   "cell_type": "markdown",
   "metadata": {},
   "source": [
    "**Дальнейшие эксперименты** с экономической моделью, ее усложнее или изменение текущих параметров, не будут нести никакой информации о влиянии качества внедрения нашего классификатора. Они будут лишь показывать насколько прибыльна или убыточна та или иная экономическая модель. Это не даст нам никакой дополнительной информации для оценки потенциального экономического эффекта от внедрения полученного решения."
   ]
  },
  {
   "cell_type": "markdown",
   "metadata": {},
   "source": [
    "Из рассуждений, представленных выше, можно заключить, что внедрения нашего классификатора далеко не всегда экономически оправданно. Примером могут служить изменения  исходных параметров экономической модели, представленные выше."
   ]
  },
  {
   "cell_type": "markdown",
   "metadata": {},
   "source": [
    "При **увеличении качества классификатора** невозможно сделать вывод об изменении экономического эффекта от проведения кампании по удержанию. Ведь классификатор построен и максимизирован по метрике ROC-AUC, а увеличение ее значения может не дать уменьшения ложных пропусков, которых классификатор совершает огромное количество и которые сильно уменьшают итоговый доход, а только лишь может дать увеличение уверенности классификатора, при отнесении объектов к разным классам."
   ]
  },
  {
   "cell_type": "markdown",
   "metadata": {},
   "source": [
    "Хоть нам и удалось получить небольшую прибыль при внедрение классификатора, все же это сложно назвать это экономически выгодным. \n",
    "<br>\n",
    "Для **увеления прибыли** от внедрения решения необходимо провести работу с классификатором. А именно уменьшить огромное количество ложных пропусков, при которых классификатор относит объекты истинного класса \"отток\" к классу \"не отток\". Это достаточно сильно уменьшает прибыль и делает внедрение решения экономически невыгодным."
   ]
  }
 ],
 "metadata": {
  "kernelspec": {
   "display_name": "Python 3",
   "language": "python",
   "name": "python3"
  },
  "language_info": {
   "codemirror_mode": {
    "name": "ipython",
    "version": 3
   },
   "file_extension": ".py",
   "mimetype": "text/x-python",
   "name": "python",
   "nbconvert_exporter": "python",
   "pygments_lexer": "ipython3",
   "version": "3.7.6"
  }
 },
 "nbformat": 4,
 "nbformat_minor": 4
}
